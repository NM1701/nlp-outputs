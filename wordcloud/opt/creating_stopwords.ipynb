{
 "cells": [
  {
   "cell_type": "markdown",
   "id": "4febd053",
   "metadata": {},
   "source": [
    "### stopwords作成\n",
    "- wordcloudで指定するstopwordsのcsvファイルを作成する"
   ]
  },
  {
   "cell_type": "code",
   "execution_count": 4,
   "id": "6b450dfd",
   "metadata": {},
   "outputs": [],
   "source": [
    "import pandas as pd\n",
    "import csv\n",
    "import os"
   ]
  },
  {
   "cell_type": "code",
   "execution_count": 8,
   "id": "588cf0b5",
   "metadata": {},
   "outputs": [],
   "source": [
    "# ストップワードをリストで定義\n",
    "stopwords_list = ['stopwords',\n",
    "                  'こと',\n",
    "                  'いる',\n",
    "                  'b',\n",
    "                  'co.jp',\n",
    "                  'c']"
   ]
  },
  {
   "cell_type": "code",
   "execution_count": 9,
   "id": "4541cec1",
   "metadata": {},
   "outputs": [],
   "source": [
    "# 作ったリストをcsvに出力 縦に出力する\n",
    "output_dir = '../../data/'\n",
    "filename = 'stopwords.csv'\n",
    "os.makedirs(output_dir, exist_ok = True)\n",
    "\n",
    "with open(output_dir + filename, 'wt', encoding = 'utf-8') as f:\n",
    "    for stopword in stopwords_list:\n",
    "        f.write(stopword+'\\n')"
   ]
  },
  {
   "cell_type": "code",
   "execution_count": 10,
   "id": "4893cf5f",
   "metadata": {},
   "outputs": [
    {
     "data": {
      "text/html": [
       "<div>\n",
       "<style scoped>\n",
       "    .dataframe tbody tr th:only-of-type {\n",
       "        vertical-align: middle;\n",
       "    }\n",
       "\n",
       "    .dataframe tbody tr th {\n",
       "        vertical-align: top;\n",
       "    }\n",
       "\n",
       "    .dataframe thead th {\n",
       "        text-align: right;\n",
       "    }\n",
       "</style>\n",
       "<table border=\"1\" class=\"dataframe\">\n",
       "  <thead>\n",
       "    <tr style=\"text-align: right;\">\n",
       "      <th></th>\n",
       "      <th>stopwords</th>\n",
       "    </tr>\n",
       "  </thead>\n",
       "  <tbody>\n",
       "    <tr>\n",
       "      <th>0</th>\n",
       "      <td>こと</td>\n",
       "    </tr>\n",
       "    <tr>\n",
       "      <th>1</th>\n",
       "      <td>いる</td>\n",
       "    </tr>\n",
       "    <tr>\n",
       "      <th>2</th>\n",
       "      <td>b</td>\n",
       "    </tr>\n",
       "    <tr>\n",
       "      <th>3</th>\n",
       "      <td>co.jp</td>\n",
       "    </tr>\n",
       "    <tr>\n",
       "      <th>4</th>\n",
       "      <td>c</td>\n",
       "    </tr>\n",
       "  </tbody>\n",
       "</table>\n",
       "</div>"
      ],
      "text/plain": [
       "  stopwords\n",
       "0        こと\n",
       "1        いる\n",
       "2         b\n",
       "3     co.jp\n",
       "4         c"
      ]
     },
     "execution_count": 10,
     "metadata": {},
     "output_type": "execute_result"
    }
   ],
   "source": [
    "# データ確認\n",
    "df = pd.read_csv(output_dir + filename, encoding = 'utf-8')\n",
    "df"
   ]
  },
  {
   "cell_type": "code",
   "execution_count": null,
   "id": "e7c495f3",
   "metadata": {},
   "outputs": [],
   "source": []
  }
 ],
 "metadata": {
  "kernelspec": {
   "display_name": "Python 3 (ipykernel)",
   "language": "python",
   "name": "python3"
  },
  "language_info": {
   "codemirror_mode": {
    "name": "ipython",
    "version": 3
   },
   "file_extension": ".py",
   "mimetype": "text/x-python",
   "name": "python",
   "nbconvert_exporter": "python",
   "pygments_lexer": "ipython3",
   "version": "3.9.16"
  }
 },
 "nbformat": 4,
 "nbformat_minor": 5
}
